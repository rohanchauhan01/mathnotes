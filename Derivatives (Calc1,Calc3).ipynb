{
 "cells": [
  {
   "cell_type": "markdown",
   "metadata": {},
   "source": [
    "## Formula for Derivative (instantaneous slope)\n",
    "\n",
    "$f'(x) = lim_{\\Delta x\\to 0}\\frac{f(x+\\Delta x) - f(x)}{\\Delta x}$\n",
    "\n",
    "$\\frac{dy}{dx} = \\frac{df}{dx} = \\frac{df(x)}{dx} = \\lim\\limits_{\\Delta x \\to 0}\\frac{\\Delta y}{\\Delta x}$ = Leibniz Notation"
   ]
  },
  {
   "cell_type": "markdown",
   "metadata": {},
   "source": [
    "### Ways of Finding Derivative"
   ]
  },
  {
   "cell_type": "markdown",
   "metadata": {},
   "source": [
    "$\\frac{d}{dx}c = 0$"
   ]
  },
  {
   "cell_type": "markdown",
   "metadata": {},
   "source": [
    "### The Power Rule\n",
    "\n",
    "$\\frac{d}{dx} x^n = nx^{n-1}$"
   ]
  },
  {
   "cell_type": "markdown",
   "metadata": {},
   "source": [
    "### The Sum Rule\n",
    "\n",
    "a) $\\frac{d}{dx}(f(x)+g(x)) = f'(x)+g'(x)$\n",
    "\n",
    "b) $\\frac{d}{dx}(f(x)-g(x)) = f'(x)-g'(x)$\n",
    "\n",
    "c) $\\frac{d}{dx}(c\\cdot f(x)) = c\\cdot f'(x)$\n",
    "\n",
    "\n"
   ]
  },
  {
   "cell_type": "markdown",
   "metadata": {},
   "source": [
    "### Linearity of the Derivative\n",
    "\n",
    "$(c(f(x))' = \\frac{d}{dx}cf(x) = c \\frac{d}{dx}f(x) = cf'(x)$"
   ]
  },
  {
   "cell_type": "markdown",
   "metadata": {},
   "source": [
    "### The Product Rule\n",
    "\n",
    "$\\frac{d}{dx}(f(x)g(x))=f(x)g'(x)+f'(x)g(x)$"
   ]
  },
  {
   "cell_type": "markdown",
   "metadata": {},
   "source": [
    "### Generalized Product Rule\n",
    "\n",
    "$\\frac{d}{dx}\\prod\\limits_{k=1}^n f_k(x) = \\sum\\limits_{j=1}^{n}\\Big(f'_j(x)\\prod\\limits_{k=1;k\\ne j}^n f_k(x) \\Big)$\n",
    "\n",
    "(sum up product of every derivative $f_k$ execept own one)\n",
    "\n"
   ]
  },
  {
   "cell_type": "markdown",
   "metadata": {},
   "source": [
    "### Quotient Rule\n",
    "\n",
    "$a\\div b=c$\n",
    "\n",
    "$dividend\\div divisor = quotient$\n",
    "\n",
    "$\\frac{d}{dx}\\frac{1}{g(x)} = - \\frac{g(x)}{g(x)^2}$\n",
    "\n",
    "$\\frac{d}{dx}\\frac{f(x)}{g(x)} = \\frac{f'(x)g(x) - f(x)g'(x)}{g(x)^2}$"
   ]
  },
  {
   "cell_type": "markdown",
   "metadata": {},
   "source": [
    "### Chain Rule\n",
    "\n",
    "$\\frac{d}{dx}f(g(x)) = f'(g(x))g'(x)$\n",
    "\n",
    "$\\frac{df}{dx} = \\frac{df}{dg} \\frac{dg}{dx}$\n",
    "\n",
    "Can be used with square roots, sin/cos, log, tan, etc."
   ]
  },
  {
   "cell_type": "markdown",
   "metadata": {},
   "source": [
    "### Second Derivative\n",
    "\n",
    "if f''(a) < 0, then f(x) has local maximum at a\n",
    "\n",
    "if f''(a) > 0, then f(x) has local minimum at a\n",
    "\n",
    "if f''(a)==0, then inconclusive\n",
    "\n",
    "if f'(a) <0, then descending (to right)\n",
    "\n",
    "if f'(a) >0, then ascending (to right)\n"
   ]
  },
  {
   "cell_type": "markdown",
   "metadata": {},
   "source": [
    "###  Derivative of the natural logarithm\n",
    "$\\frac{d}{dx} \\ln x = \\frac{1}{x}$\n",
    "$\\ln (x)$"
   ]
  },
  {
   "cell_type": "markdown",
   "metadata": {},
   "source": [
    "Inverse Function Theorum\n",
    "\n",
    "If f(x) is differentiable and $f'(x)$ is continuous, and $f'(a)≠0$, then \n",
    "\n",
    "$f^{-1}(y)$ is defined for y, differentiable, continuous near f(a);\n",
    "\n",
    "$\\frac{d}{dy}f^{-1}(y) = \\frac{1}{f'(f^{-1}(y))}$\n",
    "\n",
    "\n"
   ]
  },
  {
   "cell_type": "markdown",
   "metadata": {},
   "source": [
    "### Trigonometric Functions\n",
    "\n",
    "$\\frac{d}{dx}\\sin x = \\cos x$\n",
    "\n",
    "$\\frac{d}{dx}\\cos x = - \\sin x$\n",
    "\n",
    "$\\frac{d}{dx}\\tan x = \\sec^2 x$\n",
    "\n",
    "$\\frac{d}{dx}\\sec x = \\sec x\\tan x$\n",
    "\n",
    "$\\frac{d}{dx}\\csc x = - \\csc x\\cot x$\n",
    "\n",
    "$\\frac{d}{dx}\\cot x = - \\csc^2 x$\n",
    "\n",
    "$\\frac{d}{dy}\\arcsin y = \\frac{1}{\\sqrt{1-y^2}}$\n",
    "\n",
    "$\\frac{d}{dy}\\arccos y = \\frac{-1}{\\sqrt{1-y^2}}$\n",
    "\n",
    "$\\frac{d}{dy}\\arctan y = \\frac{1}{1+y^2}$\n",
    "\n",
    "$\\frac{d}{dx}arccot\\ y = \\frac{-1}{1+y^2}$\n",
    "\n",
    "$\\arcsin x = \\sin^{-1} y = y $ for $-1\\le x \\le 1$"
   ]
  },
  {
   "cell_type": "markdown",
   "metadata": {},
   "source": [
    "### Techniques\n",
    "\n",
    "Implicit differentiation (if not explicit function); take derivative of both sides\n",
    "\n",
    "Use logarithms, turning multiplication/division into addition/subtraction\n"
   ]
  },
  {
   "cell_type": "markdown",
   "metadata": {},
   "source": [
    "L'Hopital's Rule\n",
    "\n",
    "if $\\lim\\limits_{x\\to a}f(x) = \\lim\\limits_{x\\to a}g(x)=[0,±\\infty]$\n",
    "\n",
    "and $\\lim\\limits{x\\to a}\\frac{f'(x)}{g'(x)}$\n",
    "\n",
    "and $g'(x)≠0$ for all x near a, then\n",
    "\n",
    "$\\lim\\limits_{x\\to a}\\frac{f(x)}{g(x)} = \\lim\\limits_{x\\to a}\\frac{f'(x)}{g'(x)}$"
   ]
  },
  {
   "cell_type": "markdown",
   "metadata": {},
   "source": [
    "### Differentials\n",
    "\n",
    "$dy = f'(x)\\cdot dx$ dx and dy in this equation, assuming f(x) differentiable\n",
    "\n",
    "dy = change in y; dx = change in x\n",
    "\n",
    "can use for approximation, as with linear approx.  $\\ell(x) = f'(a)(x-a)+f(a)$ "
   ]
  },
  {
   "cell_type": "markdown",
   "metadata": {},
   "source": [
    "## Newton's Method\n",
    "\n",
    "for a differentiable equation, how to guess solution to f(x) = 0\n",
    "\n",
    "take sequence $x=a_0,a_1,a_2,...$\n",
    "\n",
    "use recursive formula, $a_{n+1} = a_n - \\frac{f(a_n)}{f'(a_n)}$\n",
    "\n",
    "May not converge to a root"
   ]
  },
  {
   "cell_type": "markdown",
   "metadata": {},
   "source": [
    "## Euler's Method\n",
    "\n",
    "Given function f(x) and initial value ($x_0,y_0$) find polygon curve defined by ($x_n, y_n$) such that it approximates $F(x)$ \n",
    "where $F'(x) = f(x)$ and $F(x_0) = y_0$\n",
    "\n",
    "1. Choose step size ($h$)\n",
    "\n",
    "2. Define polygon where\n",
    "$n$ $x_n$ $y_n$\n",
    "$n_0$ = $x_0$ $y_0$\n",
    "\n",
    "$n_1$ $x_1$=$x_0+h$ $y_1$=$y_0+h\\cdot f(x_0)$\n",
    "\n",
    "$n_2$ $x_2$=$x_1+h$ $y_2$=$y_1+h\\cdot f(x_1)$"
   ]
  },
  {
   "cell_type": "markdown",
   "metadata": {},
   "source": [
    "### Mean Value Theorem\n",
    "\n",
    "if f(x) has a derivative on interval (a,b) and continuous on [a,b] then\n",
    "\n",
    "$f'(c) = \\frac{f(b) - f(a)}{b-a}$ for some $a<c<b$"
   ]
  },
  {
   "cell_type": "markdown",
   "metadata": {},
   "source": [
    "# Antiderivative\n",
    "\n",
    "a function $F(x)$ is an **antiderivative** of $f(x)$ on an interval if $F'(x)=f(x)$ for all $x$ in the interval\n",
    "\n",
    "The derivative of this **indefinite integral** is the original function $f$\n",
    "\n",
    "$\\int f(x)dx = F(x)+C$\n",
    "\n",
    "To guess:\n",
    "\n",
    "$\\int stuff'\\cdot (stuff)^ndx $ then guess $stuff^{n+1}$\n",
    "\n",
    "$\\int junk\\cdot e^{stuff} dx $ then guess $e^{stuff}$ or $junk\\cdot^{stuff}$\n",
    "\n",
    "$\\int \\frac{stuff'}{stuff}dx$ then guess $\\ln(stuff)$\n",
    "\n",
    "$\\int junk\\cdot \\sin(stuff)dx$ then guess $\\cos(stuff)$ or $junk\\cdot \\cos(stuff)$\n",
    "\n",
    "$\\int junk\\cdot \\cos(stuff)dx$ then guess $\\sin(stuff)$ or $junk\\cdot \\sin(stuff)$"
   ]
  },
  {
   "cell_type": "markdown",
   "metadata": {
    "collapsed": true
   },
   "source": [
    "## Partial Derivative\n",
    "\n",
    "Just hold all other variables as a constant and take derivative (**treating other variables as constant**)\n",
    "\n",
    "Notated as $f_x = \\frac{\\partial f}{\\partial x} = \\frac{\\partial}{\\partial x}(f(x,y))=\\frac{\\partial z}{\\partial x} = D_x f$\n",
    "\n",
    "So f(x) = $x^2y^3$ then $f_x = 2xy^3$ and $f_y = 3x^2y^2$\n",
    "\n",
    "\n",
    "$f_x = \\lim\\limits_{h\\to 0}\\frac{f(x+h,y) - f(x,y)}{h}$\n",
    "\n"
   ]
  },
  {
   "cell_type": "code",
   "execution_count": null,
   "metadata": {
    "collapsed": true
   },
   "outputs": [],
   "source": []
  }
 ],
 "metadata": {
  "kernelspec": {
   "display_name": "Python 3",
   "language": "python",
   "name": "python3"
  },
  "language_info": {
   "codemirror_mode": {
    "name": "ipython",
    "version": 3
   },
   "file_extension": ".py",
   "mimetype": "text/x-python",
   "name": "python",
   "nbconvert_exporter": "python",
   "pygments_lexer": "ipython3",
   "version": "3.5.1"
  }
 },
 "nbformat": 4,
 "nbformat_minor": 0
}
