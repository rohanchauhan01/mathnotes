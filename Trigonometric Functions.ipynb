{
 "cells": [
  {
   "cell_type": "markdown",
   "metadata": {},
   "source": [
    "x=$-b±\\frac{b^2-\\sqrt{b^2-4ac}}{2a}$\n",
    "\n",
    "$b^2-4ac = discriminant = \\Delta$"
   ]
  },
  {
   "cell_type": "markdown",
   "metadata": {},
   "source": [
    "Slope"
   ]
  },
  {
   "cell_type": "markdown",
   "metadata": {},
   "source": [
    "Slope: $ m = \\frac{\\Delta y}{\\Delta x} =  \\frac{rise}{run} = \\frac{y2-y1}{x2-x1} = \\tan \\theta$"
   ]
  },
  {
   "cell_type": "markdown",
   "metadata": {},
   "source": [
    "## Trigonometric Functions"
   ]
  },
  {
   "cell_type": "markdown",
   "metadata": {},
   "source": [
    "$\\sin(\\theta) $\n",
    "\n",
    "$\\sin(0) = 0; sin(\\frac{\\pi}{2}) = 1; \\sin (\\pi) = 0;\\sin(\\frac{3\\pi}{2}) = 1;\\sin(2\\pi) = 0$\n",
    "\n",
    "$\\sin(\\theta) = cos(\\frac{\\pi}{2}-\\theta) = -cos(theta+\\frac{\\pi}{2})$\n",
    "\n",
    "$\\cos(x) = sin (x+\\frac{\\pi}{2})$\n",
    "\n",
    "$\\cos(-x) = cos(x)$\n",
    "\n",
    "$\\sec x =\\frac{1}{\\cos x}$\n",
    "$\\tan(x) = \\frac{\\sin(x)}{\\cos(x)}$\n"
   ]
  },
  {
   "cell_type": "markdown",
   "metadata": {},
   "source": [
    "$\\cos (C\\cdot \\theta) = C\\cdot \\cos(\\theta)$"
   ]
  },
  {
   "cell_type": "code",
   "execution_count": 1,
   "metadata": {
    "collapsed": true
   },
   "outputs": [],
   "source": [
    "import pylab\n",
    "#import numpy as np"
   ]
  },
  {
   "cell_type": "code",
   "execution_count": 13,
   "metadata": {
    "collapsed": false
   },
   "outputs": [
    {
     "data": {
      "text/plain": [
       "-0.13235175009777303"
      ]
     },
     "execution_count": 13,
     "metadata": {},
     "output_type": "execute_result"
    }
   ],
   "source": [
    "sin(50/2)"
   ]
  },
  {
   "cell_type": "code",
   "execution_count": 6,
   "metadata": {
    "collapsed": false
   },
   "outputs": [
    {
     "name": "stdout",
     "output_type": "stream",
     "text": [
      "Populating the interactive namespace from numpy and matplotlib\n"
     ]
    },
    {
     "data": {
      "text/plain": [
       "<matplotlib.legend.Legend at 0x111aadeb8>"
      ]
     },
     "execution_count": 6,
     "metadata": {},
     "output_type": "execute_result"
    },
    {
     "data": {
      "image/png": "[encoded data removed]",
      "text/plain": [
       "<matplotlib.figure.Figure at 0x10b022940>"
      ]
     },
     "metadata": {},
     "output_type": "display_data"
    }
   ],
   "source": [
    "%pylab inline\n",
    "x = linspace(-2*pi, 2*pi, 1000)  # 100 evenly-spaced values from 0 to 50\n",
    "y = sin(x)\n",
    "xticks([-2*pi, -3*pi/2, -pi, -1*pi/2, 0, pi/2, pi, 3*pi/2, 2*pi],\n",
    "           [  r'$-2\\pi$', r'$\\frac{-3\\pi}{2}$', r'$-\\pi$', r'$\\frac{-1\\pi}{2}$',\n",
    "           '$0$', r'$\\frac{\\pi}{2}$', r'$\\pi$', r'$\\frac{3\\pi}{2}$', r'$2\\pi$'])\n",
    "y_cos = cos(x)\n",
    "\n",
    "\n",
    "sine = plot(x, y,color='red',label='$sin(\\Theta)$')\n",
    "cosine = plot(x, y_cos,color='blue',label=\"$cos(\\Theta)$\")\n",
    "legend(loc='best')#handles=[sine,cosine])"
   ]
  },
  {
   "cell_type": "markdown",
   "metadata": {},
   "source": [
    "## Pythagorean Trigonometric Identity\n",
    "\n",
    "$sin^2(\\theta) + cos^2(\\theta) = 1$"
   ]
  },
  {
   "cell_type": "markdown",
   "metadata": {},
   "source": [
    "$lim_{x\\to0} \\frac{sin(x)}{x} = 1 $"
   ]
  },
  {
   "cell_type": "markdown",
   "metadata": {},
   "source": [
    "$\\frac{d}{dx}\\sin x = \\cos x$\n",
    "\n",
    "$\\frac{d}{dx}\\cos x = - \\sin x$\n",
    "\n",
    "$\\frac{d}{dx}\\tan x = \\sec^2 x$\n",
    "\n",
    "$\\frac{d}{dx}\\sec x = \\sec x\\tan x$\n",
    "\n",
    "$\\frac{d}{dx}\\csc x = - \\csc x\\cot x$\n",
    "\n",
    "$\\frac{d}{dx}\\cot x = - \\csc^2 x$\n",
    "\n"
   ]
  },
  {
   "cell_type": "code",
   "execution_count": null,
   "metadata": {
    "collapsed": true
   },
   "outputs": [],
   "source": []
  },
  {
   "cell_type": "code",
   "execution_count": null,
   "metadata": {
    "collapsed": true
   },
   "outputs": [],
   "source": []
  }
 ],
 "metadata": {
  "kernelspec": {
   "display_name": "Python 3",
   "language": "python",
   "name": "python3"
  },
  "language_info": {
   "codemirror_mode": {
    "name": "ipython",
    "version": 3
   },
   "file_extension": ".py",
   "mimetype": "text/x-python",
   "name": "python",
   "nbconvert_exporter": "python",
   "pygments_lexer": "ipython3",
   "version": "3.5.1"
  }
 },
 "nbformat": 4,
 "nbformat_minor": 0
}
