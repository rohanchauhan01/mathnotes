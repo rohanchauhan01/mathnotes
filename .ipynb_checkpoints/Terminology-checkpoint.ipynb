{
 "cells": [
  {
   "cell_type": "markdown",
   "metadata": {},
   "source": [
    "# Terminology\n",
    "\n",
    "$discriminant = \\Delta = $b^2-4ac$"
   ]
  },
  {
   "cell_type": "markdown",
   "metadata": {},
   "source": [
    "$inverse$ = if function maps every input to one output, inverse maps function every output to one input = $f^{-1}(x) = \\frac{1}{f(x)}$\n"
   ]
  },
  {
   "cell_type": "markdown",
   "metadata": {},
   "source": [
    "$asymptote$ = a line that a graph approaches but does not reach"
   ]
  },
  {
   "cell_type": "markdown",
   "metadata": {},
   "source": [
    "$derivative$ = \n",
    "$f'(x) = lim_{\\Delta x\\to 0}\\frac{f(x+\\Delta x) - f(x)}{\\Delta x}$\n",
    "\n",
    "$\\frac{dy}{dx} = \\frac{df}{dx} = \\frac{df(x)}{dx} = \\lim\\limits_{\\Delta x \\to 0}\\frac{\\Delta y}{\\Delta x}$ = Leibniz Notation\n",
    "\n",
    "secondd erivative = $ f''(x) $ if positive, concave up, if negative, concave down"
   ]
  },
  {
   "cell_type": "markdown",
   "metadata": {},
   "source": [
    "$e$ = Euler's # = 2.718281828459045...\n",
    "\n",
    "$\\lim\\limits_{h\\to 0}\\frac{e^h-1}{h} = 1$\n",
    "\n",
    "$\\frac{d}{dx}e^x = e^x$"
   ]
  },
  {
   "cell_type": "markdown",
   "metadata": {},
   "source": [
    "*fermat's theorum* = if f(x) has local extremum at x=a and f(x) differentiable at a, then $f'(a)=0$"
   ]
  },
  {
   "cell_type": "markdown",
   "metadata": {},
   "source": [
    "$\\arcsin x = \\sin^{-1} x = y $ for $-1\\le x \\le 1$"
   ]
  },
  {
   "cell_type": "markdown",
   "metadata": {},
   "source": [
    "*average rate of change* = $\\frac{f(a+\\Delta x) - f(a)}{\\Delta x}$\n",
    "\n",
    "*instantaneous rate of change* = $\\frac{d}{dx}f(x)\\bigg\\rvert_{x=a}$\n",
    "\n",
    "*linear approximation* If f(x) is differentiable at $x=a$, then for $f(x)$ at $x=a$,\n",
    "\n",
    "$\\ell(x) = f'(a)(x-a)+f(a)$ (Good if x not far from a)"
   ]
  },
  {
   "cell_type": "markdown",
   "metadata": {},
   "source": [
    "*Differential*\n",
    "\n",
    "$dy = f'(x)\\cdot dx$ dx and dy in this equation, assuming f(x) differentiable\n",
    "\n",
    "can use for approximation, as with linear approx."
   ]
  },
  {
   "cell_type": "code",
   "execution_count": null,
   "metadata": {
    "collapsed": true
   },
   "outputs": [],
   "source": [
    "import pylab"
   ]
  },
  {
   "cell_type": "code",
   "execution_count": null,
   "metadata": {
    "collapsed": true
   },
   "outputs": [],
   "source": [
    "pyla"
   ]
  }
 ],
 "metadata": {
  "kernelspec": {
   "display_name": "Python 3",
   "language": "python",
   "name": "python3"
  },
  "language_info": {
   "codemirror_mode": {
    "name": "ipython",
    "version": 3
   },
   "file_extension": ".py",
   "mimetype": "text/x-python",
   "name": "python",
   "nbconvert_exporter": "python",
   "pygments_lexer": "ipython3",
   "version": "3.5.1"
  }
 },
 "nbformat": 4,
 "nbformat_minor": 0
}
