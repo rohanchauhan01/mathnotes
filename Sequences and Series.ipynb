{
 "cells": [
  {
   "cell_type": "markdown",
   "metadata": {},
   "source": [
    "Sequences and Series"
   ]
  },
  {
   "cell_type": "markdown",
   "metadata": {},
   "source": [
    "### Geometric Series\n",
    "\n",
    "A series with a constant ratio between terms \n",
    "\n",
    "$\\sum\\limits_{k=0}^{\\infty} r^k $\n",
    "\n",
    "if $-1\\ge r \\ge 1$ limit is 0\n",
    "\n",
    "if $|r|$ > 1  does not converge\n",
    "\n",
    "$\\sum\\limits_{k=m}^{\\infty} r^k $\n",
    "\n",
    "if $|r| < 1$ limit is $\\frac{r^m}{1-r}$"
   ]
  },
  {
   "cell_type": "markdown",
   "metadata": {},
   "source": [
    "### Telescoping Series\n",
    "\n",
    "a series that has only a fixed number of sums after cancelation\n",
    "\n",
    "\n",
    "$\\sum\\limits_{n=1}^{\\infty}\\frac{1}{n(n+1)} = 1$"
   ]
  },
  {
   "cell_type": "markdown",
   "metadata": {},
   "source": [
    "$\\sum_{k=1}^{n}f(k) - f(k+1) = f(1) - f(n+1)$"
   ]
  },
  {
   "cell_type": "markdown",
   "metadata": {},
   "source": [
    "$\\sum_{k=1}^{\\infty} \\frac{k!}{(k+1)!} = 1$\n",
    "\n"
   ]
  },
  {
   "cell_type": "markdown",
   "metadata": {},
   "source": [
    "### Convergence Test\n",
    "\n",
    " if $\\lim\\limits_{n\\to \\infty}a_n = 0$, then $\\sum_{k=1}^{\\infty}a_k$ converges or diverges\n",
    "\n",
    "if  $\\lim\\limits_{n\\to \\infty}a_n$ is not 0, then $\\sum_{k=1}^{\\infty}a_k$ diverges"
   ]
  },
  {
   "cell_type": "markdown",
   "metadata": {},
   "source": [
    "### Harmonic Series\n",
    "\n",
    "$\\sum_{n=1}^{\\infty}\\frac{1}{n}$\n",
    "\n",
    "\n",
    "If diverges, even though $a_n=0$"
   ]
  },
  {
   "cell_type": "markdown",
   "metadata": {},
   "source": [
    "### Comparison Test\n",
    "\n",
    "To check whether or not a series converges or diverges\n",
    "\n"
   ]
  },
  {
   "cell_type": "markdown",
   "metadata": {},
   "source": [
    "### Cauchy Convergence\n",
    "\n",
    "If condensed version of series (e.g. using higher values), fate of original is same\n"
   ]
  },
  {
   "cell_type": "markdown",
   "metadata": {},
   "source": [
    "$\\sum_{n=1}^{\\infty}\\frac{1}{n^2} = \\frac{\\pi^2}{6}$"
   ]
  },
  {
   "cell_type": "code",
   "execution_count": null,
   "metadata": {
    "collapsed": true
   },
   "outputs": [],
   "source": []
  }
 ],
 "metadata": {
  "kernelspec": {
   "display_name": "Python 3",
   "language": "python",
   "name": "python3"
  },
  "language_info": {
   "codemirror_mode": {
    "name": "ipython",
    "version": 3
   },
   "file_extension": ".py",
   "mimetype": "text/x-python",
   "name": "python",
   "nbconvert_exporter": "python",
   "pygments_lexer": "ipython3",
   "version": "3.5.1"
  }
 },
 "nbformat": 4,
 "nbformat_minor": 0
}
